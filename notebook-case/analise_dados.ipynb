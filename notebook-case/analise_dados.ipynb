{
  "nbformat": 4,
  "nbformat_minor": 0,
  "metadata": {
    "colab": {
      "provenance": []
    },
    "kernelspec": {
      "name": "python3",
      "display_name": "Python 3"
    },
    "language_info": {
      "name": "python"
    }
  },
  "cells": [
    {
      "cell_type": "markdown",
      "source": [
        "\n",
        "\n",
        "---\n",
        "\n",
        "Aqui fiz uma checagem de dados, aplicando filtros, Primeiro se tinha chagerback fraudulento, em seguida apliquei outro filtro de quantidades de compras pelo mesmo dispositivo e por fim fiz outro filtro que mostrasse dispositivos que tiveram compras em um determinado tempo."
      ],
      "metadata": {
        "id": "5zKHuK7ZJA9Q"
      }
    },
    {
      "cell_type": "code",
      "source": [
        "import pandas as pd\n",
        "import numpy as np\n",
        "\n",
        "def organiza_tabela_chargeback(tabela, has_chargeback):\n",
        "  pd.set_option('display.max_rows', 400)\n",
        "  df = pd.read_csv(tabela, sep = ',')\n",
        "  data_true = df[df['has_cbk'] == has_chargeback]\n",
        "  data_ordenado = data_true.sort_values(by='device_id')\n",
        "  return data_ordenado\n",
        "\n",
        "def organiza_tabela_por_compras_de_cada_dispositivo(qtd_compra):\n",
        "  organizado = organiza_tabela_chargeback('transactional-sample.csv', True)\n",
        "  valor_repetido = organizado['device_id'].value_counts()\n",
        "  valor_repetido = valor_repetido[valor_repetido>qtd_compra]\n",
        "  valor_filtrado = organizado[organizado['device_id'].isin(valor_repetido.index)]\n",
        "  return valor_filtrado\n",
        "\n",
        "def func(group):\n",
        "    group['Dif_time_shop'] = group['transaction_date'].diff().dt.total_seconds().div(60).abs()\n",
        "    return group\n",
        "\n",
        "def orniganiza_tabela_pelo_tempo_de_do_usuario(tempo):\n",
        "  data_value = organiza_tabela_por_compras_de_cada_dispositivo(3)\n",
        "  #data_copy = data_value.copy()\n",
        "  data_value['transaction_date'] = pd.to_datetime(data_value['transaction_date'])\n",
        "  filter = data_value.groupby(['device_id'])\n",
        "  df_filter = filter.apply(func)\n",
        "  df_filter = df_filter[df_filter['Dif_time_shop'] < tempo]\n",
        "  return df_filter\n",
        "\n",
        "orniganiza_tabela_pelo_tempo_de_do_usuario(20)"
      ],
      "metadata": {
        "id": "9Rn5OnGuxAkw"
      },
      "execution_count": null,
      "outputs": []
    },
    {
      "cell_type": "markdown",
      "source": [
        "Aqui eu fiz um filtro para caso achasse suspeito um dispositivo com base nos filtros feito acima, em que esse filtro mostra todas as compras feitas pelo dispositivo."
      ],
      "metadata": {
        "id": "iKwFB7s3K1az"
      }
    },
    {
      "cell_type": "code",
      "source": [
        "import pandas as pd\n",
        "\n",
        "def filter_by_device_id(id):\n",
        "  df = pd.read_csv('transactional-sample.csv', sep = ',')\n",
        "  data_device = df[df['device_id'] == id]\n",
        "  return data_device\n",
        "\n",
        "filter_by_device_id(486)\n"
      ],
      "metadata": {
        "id": "gjDFrVsrHwz3"
      },
      "execution_count": null,
      "outputs": []
    }
  ]
}